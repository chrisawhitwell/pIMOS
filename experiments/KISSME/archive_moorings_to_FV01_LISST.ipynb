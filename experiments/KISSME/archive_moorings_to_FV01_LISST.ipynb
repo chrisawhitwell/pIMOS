{
 "cells": [
  {
   "cell_type": "markdown",
   "metadata": {},
   "source": [
    "# Processing SBE data with pIMOS\n",
    "\n",
    "Included instruments:\n",
    "- SBE56\n",
    "- SBE39 T\n",
    "- SBE39 TP\n",
    "- SBE37 CTD\n",
    "- And of course our very special friend, SBE37 4567 CT\n"
   ]
  },
  {
   "cell_type": "code",
   "execution_count": 1,
   "metadata": {},
   "outputs": [
    {
     "name": "stdout",
     "output_type": "stream",
     "text": [
      "<class 'datetime.datetime'>\n",
      "Module tested\n",
      "<class 'datetime.datetime'>\n",
      "Time vector is well spaced\n",
      "<class 'numpy.datetime64'>\n",
      "Time vector is well spaced\n",
      "There are 101 elements in this 10 second period spaced at 0.1.\n",
      "Time Module OK\n",
      "[[ 6.123234e-17 -1.000000e+00  0.000000e+00]\n",
      " [ 1.000000e+00  6.123234e-17  0.000000e+00]\n",
      " [ 0.000000e+00  0.000000e+00  1.000000e+00]]\n"
     ]
    },
    {
     "name": "stderr",
     "output_type": "stream",
     "text": [
      "c:\\users\\azulberti\\dropbox\\university\\phd\\03_code\\source_code\\turbo_tools\\turbo_tools\\utils\\time.py:182: FutureWarning: The pandas.datetime class is deprecated and will be removed from pandas in a future version. Import from datetime module instead.\n",
      "  ans = linspacetime(pd.datetime.today(), pd.datetime.today()+datetime.timedelta(1), n=100)\n",
      "c:\\users\\azulberti\\dropbox\\university\\phd\\03_code\\source_code\\turbo_tools\\turbo_tools\\utils\\time.py:189: FutureWarning: The pandas.datetime class is deprecated and will be removed from pandas in a future version. Import from datetime module instead.\n",
      "  ans = linspacetime(pd.datetime.today(), pd.datetime.today()+dt, dt_s=dt_s)\n"
     ]
    },
    {
     "name": "stdout",
     "output_type": "stream",
     "text": [
      "Time vector is well spaced\n",
      "Time vector is well spaced\n",
      "There are 101 elements in this 10 second period spaced at 0.1.\n",
      "Time Module OK\n"
     ]
    },
    {
     "name": "stderr",
     "output_type": "stream",
     "text": [
      "c:\\users\\azulberti\\dropbox\\university\\phd\\03_code\\source_code\\zutils\\zutils\\time.py:217: FutureWarning: The pandas.datetime class is deprecated and will be removed from pandas in a future version. Import from datetime module instead.\n",
      "  ans = linspacetime(pd.datetime.today(), pd.datetime.today()+datetime.timedelta(1), n=100)\n",
      "c:\\users\\azulberti\\dropbox\\university\\phd\\03_code\\source_code\\zutils\\zutils\\time.py:224: FutureWarning: The pandas.datetime class is deprecated and will be removed from pandas in a future version. Import from datetime module instead.\n",
      "  ans = linspacetime(pd.datetime.today(), pd.datetime.today()+dt, dt_s=dt_s)\n"
     ]
    }
   ],
   "source": [
    "# import seabird as sbd\n",
    "# import crude_readers.read.SEABIRD_37_39_56 as read_sbd\n",
    "\n",
    "import pIMOS.xrwrap.SEABIRD_37_39_56 as wrap_sbd\n",
    "from pIMOS.xrwrap.NORTEK_VECTOR import NORTEK_VECTOR, num2date_lk\n",
    "from pIMOS.xrwrap.NORTEK_SIGNATURE import NORTEK_SIGNATURE\n",
    "from pIMOS.xrwrap.WETLABS_NTU import WETLABS_NTU, parse_device_file\n",
    "\n",
    "import os\n",
    "import matplotlib.pyplot as plt\n",
    "import datetime\n",
    "import numpy as np \n",
    "import pandas as pd\n",
    "import glob\n",
    "\n",
    "import pIMOS.utils.quality_control as pqc\n",
    "import importlib\n",
    "\n",
    "# O Drive is //drive.irds.uwa.edu.au/CEME-BBL-001\n",
    "# pIMOS_export_dir = r'O:\\Data\\pIMOS\\KISSME'\n",
    "\n",
    "project_root = r'G:\\Experiments\\kissme17'\n",
    "archive_dir = os.path.join(project_root, 'archive_FV00') \n",
    "dbconfig_file = os.path.join('./', 'database', 'config.txt') \n",
    "\n",
    "if not os.path.exists(archive_dir):\n",
    "    os.mkdir(archive_dir)\n",
    "    "
   ]
  },
  {
   "cell_type": "markdown",
   "metadata": {},
   "source": [
    "# Import info and utilities to help with the archiving"
   ]
  },
  {
   "cell_type": "code",
   "execution_count": 2,
   "metadata": {},
   "outputs": [
    {
     "name": "stdout",
     "output_type": "stream",
     "text": [
      "deployment_metadata = KISSME_Instruments.csv\n",
      "\n",
      "possible_mooring_dates = possible_mooring_dates.csv\n",
      "deployment_metadata = KISSME_Instruments.csv\n",
      "\n",
      "possible_mooring_dates = possible_mooring_dates.csv\n"
     ]
    },
    {
     "data": {
      "text/plain": [
       "{'deployment_metadata':     StationID  Longitude  Latitude  Depth TimeZone            Site  \\\n",
       " 0      BRB200   123.0459  -14.2426   -200      UTC    Browse Shelf   \n",
       " 1      BRB200   123.0459  -14.2426   -200      UTC    Browse Shelf   \n",
       " 2      BRB200   123.0459  -14.2426   -200      UTC    Browse Shelf   \n",
       " 3      BRB200   123.0459  -14.2426   -200      UTC    Browse Shelf   \n",
       " 4      BRB200   123.0459  -14.2426   -200      UTC    Browse Shelf   \n",
       " ..        ...        ...       ...    ...      ...             ...   \n",
       " 126     WP250   123.3490  -13.7659   -252      UTC  Browse Prelude   \n",
       " 127     WP250   123.3490  -13.7659   -252      UTC  Browse Prelude   \n",
       " 128     WP250   123.3490  -13.7659   -252      UTC  Browse Prelude   \n",
       " 129     WP250   123.3490  -13.7659   -252      UTC  Browse Prelude   \n",
       " 130     WP250   123.3490  -13.7659   -252      UTC  Browse Prelude   \n",
       " \n",
       "      InstrumentDepth                      FileName            FilePath  \\\n",
       " 0             -193.1                  6752_000.000  Data\\RDIADCP\\16752   \n",
       " 1              -22.0  sbe37sm_08753_2017_05_23.cnv          Data\\SBE37   \n",
       " 2              -38.0       Minilog-II-T_357688.csv          Data\\Vemco   \n",
       " 3              -40.2  sbe37sm_08752_2017_05_23.cnv          Data\\SBE37   \n",
       " 4              -50.2                  58551705.asc          Data\\SBE39   \n",
       " ..               ...                           ...                 ...   \n",
       " 126            -62.0                      3752.asc          Data\\SBE39   \n",
       " 127            -62.0                      3750.asc          Data\\SBE39   \n",
       " 128            -62.0                      3749.asc          Data\\SBE39   \n",
       " 129            -62.0                      3747.asc          Data\\SBE39   \n",
       " 130            -22.0                      6526.asc          Data\\SBE39   \n",
       " \n",
       "                 InstrumentType  SerialNo  InstrumentHeight  DeploymentHeight  \\\n",
       " 0    RDI 150 kHz Quartermaster     16752               6.9              6.90   \n",
       " 1                    SBE37 CTD      8753             178.0            178.00   \n",
       " 2                      Vemco T    357688             162.0            162.00   \n",
       " 3                    SBE37 CTD      8752             159.8            159.80   \n",
       " 4                     SBE39 TP      5855             149.8            149.80   \n",
       " ..                         ...       ...               ...               ...   \n",
       " 126                    SBE39 T      3752             190.0            179.97   \n",
       " 127                    SBE39 T      3750             190.0            169.97   \n",
       " 128                    SBE39 T      3749             190.0            149.97   \n",
       " 129                    SBE39 T      3747             190.0            139.97   \n",
       " 130                   SBE39 TP      6526             230.0            229.97   \n",
       " \n",
       "     Orientation SidelobeInt  \n",
       " 0            up    pressure  \n",
       " 1           NaN         NaN  \n",
       " 2           NaN         NaN  \n",
       " 3           NaN         NaN  \n",
       " 4           NaN         NaN  \n",
       " ..          ...         ...  \n",
       " 126         NaN         NaN  \n",
       " 127         NaN         NaN  \n",
       " 128         NaN         NaN  \n",
       " 129         NaN         NaN  \n",
       " 130         NaN         NaN  \n",
       " \n",
       " [131 rows x 15 columns],\n",
       " 'possible_mooring_dates':   Experiment        Recovered       Mooring           StartDate  \\\n",
       " 0     kissme  kissme_recovery         sp250 2017-04-01 09:00:00   \n",
       " 1     kissme  kissme_recovery  sp250-lander 2017-04-01 09:00:00   \n",
       " 2     kissme  kissme_recovery         np250 2017-04-02 09:00:00   \n",
       " 3     kissme  kissme_recovery         wp250 2017-04-02 09:00:00   \n",
       " \n",
       "               EndDate  \n",
       " 0 2017-05-21 23:30:00  \n",
       " 1 2017-05-21 23:30:00  \n",
       " 2 2017-05-21 23:30:00  \n",
       " 3 2017-05-21 23:30:00  }"
      ]
     },
     "execution_count": 2,
     "metadata": {},
     "output_type": "execute_result"
    }
   ],
   "source": [
    "import archive_info_and_utils as ai\n",
    "\n",
    "db_config = ai.parse_dbconfig(dbconfig_file)\n",
    "db_data = ai.read_db(dbconfig_file)\n",
    "db_config\n",
    "db_data"
   ]
  },
  {
   "cell_type": "markdown",
   "metadata": {},
   "source": [
    "# Loop through all now using the spreadsheet"
   ]
  },
  {
   "cell_type": "markdown",
   "metadata": {},
   "source": [
    "# Now the LISST\n",
    "Need code from Will\n"
   ]
  },
  {
   "cell_type": "code",
   "execution_count": 4,
   "metadata": {},
   "outputs": [],
   "source": [
    "import pIMOS.read.lisst as read_lisst\n",
    "import os, importlib \n",
    "import pandas as pd\n",
    "\n",
    "importlib.reload(read_lisst)\n",
    "\n",
    "lisst_direc = r'D:\\Experiments\\kissme17\\LISST\\2031'\n",
    "lisst_csv = 'L0910204.csv'\n",
    "\n",
    "lisst_full = os.path.join(lisst_direc, lisst_csv)"
   ]
  },
  {
   "cell_type": "code",
   "execution_count": 5,
   "metadata": {},
   "outputs": [
    {
     "name": "stdout",
     "output_type": "stream",
     "text": [
      "Setting default attributes of the class.\n",
      "Setting attribute \"title\" to \"Measured data from a Seabird Data Logger\"\n",
      "Setting attribute \"source\" to \"Seabird Data Logger\"\n",
      "Setting attribute \"history\" to \"\"\n",
      "Setting attribute \"comment\" to \"\"\n"
     ]
    }
   ],
   "source": [
    "from pIMOS.xrwrap import LISST\n",
    "\n",
    "rr = LISST.LISST(lisst_direc, lisst_csv, method='csv')"
   ]
  },
  {
   "cell_type": "code",
   "execution_count": 6,
   "metadata": {},
   "outputs": [
    {
     "data": {
      "text/plain": [
       "<pIMOS.xrwrap.LISST.LISST at 0x1d80f265e50>"
      ]
     },
     "execution_count": 6,
     "metadata": {},
     "output_type": "execute_result"
    }
   ],
   "source": [
    "rr"
   ]
  },
  {
   "cell_type": "code",
   "execution_count": 26,
   "metadata": {},
   "outputs": [],
   "source": [
    "\n",
    "direc = os.path.split(lisst_csv)[0]\n",
    "direc\n",
    "\n",
    "fields, units, dtype, bins_lower, bins_median = read_lisst.load_LISST_info(direc)\n",
    "df = pd.read_csv(lisst_csv, header=None)\n",
    "time_series = read_lisst.convert_LISST_time(df)\n",
    "df = read_lisst.add_LISST_flags(df)\n",
    "ds = read_lisst.parse_LISST_csv(df, fields, units, dtype, bins_lower)\n"
   ]
  }
 ],
 "metadata": {
  "kernelspec": {
   "display_name": "Python 3",
   "language": "python",
   "name": "python3"
  },
  "language_info": {
   "codemirror_mode": {
    "name": "ipython",
    "version": 3
   },
   "file_extension": ".py",
   "mimetype": "text/x-python",
   "name": "python",
   "nbconvert_exporter": "python",
   "pygments_lexer": "ipython3",
   "version": "3.9.1"
  }
 },
 "nbformat": 4,
 "nbformat_minor": 4
}
